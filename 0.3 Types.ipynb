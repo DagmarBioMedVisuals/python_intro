{
 "cells": [
  {
   "cell_type": "markdown",
   "metadata": {},
   "source": [
    "# Types\n",
    "\n",
    "In programming, data has a value and a type. If I were to ask you what \"5\" was you would probably say a number. If I were to ask what \"foo\" was, you might have a few different answers, but one of them would probably be a word.\n",
    "\n",
    "Python is a dynamically typed language. In statically typed languages if we set something up as a number type, it will always be that type. In dynamically typed language, we don't have to set a specific type and they type can even be changed. You can check what type a value is by using the `type()` function.\n",
    "\n",
    "On the operator examples `\"5\" == 5` returned false. This is because they have different types, even though to us it looks like they have the same value. Text in python uses double quotes. `\"\"`"
   ]
  },
  {
   "cell_type": "code",
   "execution_count": null,
   "metadata": {},
   "outputs": [],
   "source": [
    "print(type(5), type(\"foo\"))"
   ]
  },
  {
   "cell_type": "markdown",
   "metadata": {},
   "source": [
    "Running that code, we don't get number or word, we get int and str. The names of the types are a bit different than we are used to.\n",
    "\n",
    "## Common python types\n",
    "\n",
    "| Name | Type |\n",
    "| --- | --- |\n",
    "| String (Text) | `str` |\n",
    "| Integer | `int` |\n",
    "| Float | `float` |\n",
    "| Boolean (true/false) | `bool` |\n",
    "\n",
    "There also a few types that refer to groups of things: `list`, `tuple`, `dict` (Dictionary), `set`.\n",
    "\n",
    "| Type | Ordered | Changeable (Mutable) | Allows Duplicates | Accessed By | Created With | Separated by\n",
    "| --- | --- | --- | --- | --- | --- | --- |\n",
    "| List (js: array) | x | x | x | index** | [ ] | , |\n",
    "| Tuple (grid / matrix) | x* | add/remove only | x | index | ( ) |\n",
    "| Dictionary | x* | x | | key | { key : value } |\n",
    "| Set | | add/remove only | | loop through | { } |\n",
    "\n",
    "\\* added in python 3.7<br>\n",
    "\\** Position in the group, starts at position 0 (same as JS)\n",
    "\n",
    "### Tuples (comment from HG Tech VC chat)\n",
    "\n",
    "Eric J Morey — Today at 5:50 PM\n",
    "Tuples are faster than lists. If you're defining a constant set of values and all you're ever going to do with it is iterate through it, use a tuple instead of a list.\n",
    "\n",
    "It makes your code safer if you “write-protect” data that does not need to be changed. Using a tuple instead of a list is like having an implied assert statement that this data is constant, and that special thought (and a specific function) is required to override that.\n",
    "\n",
    "Some tuples can be used as dictionary keys (specifically, tuples that contain immutable values like strings, numbers, and other tuples). Lists can never be used as dictionary keys, because lists are not immutable."
   ]
  }
 ],
 "metadata": {
  "kernelspec": {
   "display_name": "Python 3.11.0 64-bit",
   "language": "python",
   "name": "python3"
  },
  "language_info": {
   "codemirror_mode": {
    "name": "ipython",
    "version": 3
   },
   "file_extension": ".py",
   "mimetype": "text/x-python",
   "name": "python",
   "nbconvert_exporter": "python",
   "pygments_lexer": "ipython3",
   "version": "3.11.0"
  },
  "orig_nbformat": 4,
  "vscode": {
   "interpreter": {
    "hash": "9a4ea2e96b2984c82f821aefd515200e36fd6523366f4f3dd3439acae7cd090e"
   }
  }
 },
 "nbformat": 4,
 "nbformat_minor": 2
}

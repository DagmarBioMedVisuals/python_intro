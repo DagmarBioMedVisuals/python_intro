{
 "cells": [
  {
   "cell_type": "markdown",
   "metadata": {},
   "source": [
    "# Control Flow\n",
    "\n",
    "When writing software, there is a specific order we want commands to run, called the control flow. In python there are three ways to control the flow of a program.\n",
    "\n",
    "- Sequential\n",
    "- Selection\n",
    "- Repetition\n",
    "\n",
    "## Sequential\n",
    "\n",
    "This is the most basic way of controlling the order of statements, and the one we've already been using. It just means that normally statements will be run from top to bottom unless something changes the flow."
   ]
  },
  {
   "cell_type": "code",
   "execution_count": 1,
   "metadata": {},
   "outputs": [
    {
     "name": "stdout",
     "output_type": "stream",
     "text": [
      "First statement\n",
      "Second statement\n",
      "Third statement\n"
     ]
    }
   ],
   "source": [
    "print(\"First statement\")\n",
    "print(\"Second statement\")\n",
    "print(\"Third statement\")"
   ]
  },
  {
   "cell_type": "markdown",
   "metadata": {},
   "source": [
    "## Selection\n",
    "\n",
    "Selection flow is the if-else type statements. Basically this means that `if` a statement is true, then we execute the rest of the code in the block. We also have the option of using an `else` block to define what to do if the condition is false. We can also include `elif` to check an additional statement if the previous ones are all false, and nest this logic to create a desicion tree."
   ]
  },
  {
   "cell_type": "code",
   "execution_count": 2,
   "metadata": {},
   "outputs": [],
   "source": [
    "x = input(\"Say hello!\")\n",
    "\n",
    "if x == \"hello\":\n",
    "    print(\"Hello to you too!\")\n",
    "else:\n",
    "    print(\"I'm not sure what you said\")"
   ]
  },
  {
   "cell_type": "markdown",
   "metadata": {},
   "source": [
    "If you are coming from a language that has `switch` statements, something similar was added in python 3.10 called `match` or pattern matching. These are not particularly common, but can be useful for things like menus where you have quite a few distinct options, and using a lot of `elif` would get messy.\n",
    "\n",
    "```\n",
    "match menu_item:\n",
    "    case \"item 1\":\n",
    "        return 1\n",
    "    case \"item 2\":\n",
    "        return 2\n",
    "    case _:\n",
    "        return \"default case\"\n",
    "```"
   ]
  },
  {
   "cell_type": "markdown",
   "metadata": {},
   "source": [
    "## Repetition\n",
    "\n",
    "Repition allows us to repeat the same code multiple times in a row. This is often used when we need to do things like run some action on each item in a list. There are two loop types in python, `for` and `while`\n",
    "\n",
    "### For loops\n",
    "\n",
    "`for` loops run through each item in a group of data like a list, set, or dictionary. We use a variable to hold the value of the current item in the group so we can act on it."
   ]
  },
  {
   "cell_type": "code",
   "execution_count": 1,
   "metadata": {},
   "outputs": [
    {
     "name": "stdout",
     "output_type": "stream",
     "text": [
      "1\n",
      "2\n",
      "3\n",
      "4\n"
     ]
    }
   ],
   "source": [
    "list = [1,2,3,4]\n",
    "\n",
    "for i in list: \n",
    "    print(i)"
   ]
  },
  {
   "cell_type": "markdown",
   "metadata": {},
   "source": [
    "### While Loops\n",
    "\n",
    "A while loop is essentially a selection statement we run multiple times. We check to see if the condition is true, we run the following code block. Then the condition is checked again, and as long as it continues to evaluate to true, we keep running the code.\n",
    "\n",
    "While loops can be dangerous because you can forget to create a scenario where the condition evaluates to false, and it ends up running until you kill the program. On the flip side, things like games might intentionally use something like `while true:` to create a game loop that runs as long as the game is active."
   ]
  },
  {
   "cell_type": "code",
   "execution_count": 2,
   "metadata": {},
   "outputs": [
    {
     "name": "stdout",
     "output_type": "stream",
     "text": [
      "0\n",
      "1\n",
      "2\n",
      "3\n",
      "4\n"
     ]
    }
   ],
   "source": [
    "i = 0\n",
    "\n",
    "while i < 5:\n",
    "    print(i)\n",
    "    i = i + 1"
   ]
  }
 ],
 "metadata": {
  "kernelspec": {
   "display_name": "Python 3.11.0 64-bit",
   "language": "python",
   "name": "python3"
  },
  "language_info": {
   "codemirror_mode": {
    "name": "ipython",
    "version": 3
   },
   "file_extension": ".py",
   "mimetype": "text/x-python",
   "name": "python",
   "nbconvert_exporter": "python",
   "pygments_lexer": "ipython3",
   "version": "3.11.0"
  },
  "orig_nbformat": 4,
  "vscode": {
   "interpreter": {
    "hash": "9a4ea2e96b2984c82f821aefd515200e36fd6523366f4f3dd3439acae7cd090e"
   }
  }
 },
 "nbformat": 4,
 "nbformat_minor": 2
}

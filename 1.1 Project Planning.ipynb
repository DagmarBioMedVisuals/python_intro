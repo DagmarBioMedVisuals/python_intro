{
 "cells": [
  {
   "cell_type": "markdown",
   "metadata": {},
   "source": [
    "# Project Planning\n",
    "\n",
    "In order to create our bot, we need to decide what it can do for us. In this case, we are going to have it make a very simple RPG.\n",
    "\n",
    "We want our bot to:\n",
    "\n",
    "1. Connect to a server so it can receive messages.\n",
    "2. The first command a user sends creates their player\n",
    "3. Respond to commands\n",
    "  1. /getStats prints the user's current stats\n",
    "  2. /encounter generates a new monster encounter or it's current status\n",
    "    1. /attack attacks during an encounter or prints an error\n",
    "    2. /run ends the encounter\n",
    "4. If the player wins an encounter reward them\n",
    "5. If the player loses the encounter end it and leave HP at zero (regen over time)\n",
    "6. HP regen over time\n"
   ]
  }
 ],
 "metadata": {
  "kernelspec": {
   "display_name": "Python 3.11.0 64-bit",
   "language": "python",
   "name": "python3"
  },
  "language_info": {
   "name": "python",
   "version": "3.11.0"
  },
  "orig_nbformat": 4,
  "vscode": {
   "interpreter": {
    "hash": "0665a69b81b0d252a1b445db04122473f3e1009be0adaea4f83aef2f0a7104e6"
   }
  }
 },
 "nbformat": 4,
 "nbformat_minor": 2
}

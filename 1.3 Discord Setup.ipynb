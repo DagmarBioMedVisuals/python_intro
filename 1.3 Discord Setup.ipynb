{
 "cells": [
  {
   "cell_type": "markdown",
   "metadata": {},
   "source": [
    "If you want to run the bot you will need a dev API key and a Discord server to test on.\n",
    "\n",
    "1. At [https://discord.com/developers](https://discord.com/developers) create a new application.\n",
    "2. On the General Information page for your new app you'll be able to get your App ID and public key.\n",
    "3. In the left nav menu open the Bot tab.\n",
    "4. Choose add bot user and confirm.\n",
    "5. (Optional) Turn off public bot if you don't want other people to add the bot to their servers.\n",
    "6. Get your token and add it to the .env file so that you can add your bot to servers.\n",
    "7. Under intents add 'Message Content Intent'\n",
    "\n",
    "![message intent](./images/DiscordMessageIntent.png)\n",
    "\n",
    "Add the bot to your server\n",
    "\n",
    "1. In the Dev portal choose your new app and go to the OAUTH option.\n",
    "2. Navigate to the Generate Link tab.\n",
    "3. Under scope add 'bot' and 'applications.commands' scope.\n",
    "4. Under Bot Permissions add Text Permissions -> \"Send Messages\".\n",
    "5. Copy the link at the bottom of the page and open it in a new browser window.\n",
    "6. Choose the server you want to add the bot to and complete authorization."
   ]
  }
 ],
 "metadata": {
  "kernelspec": {
   "display_name": "Python 3",
   "language": "python",
   "name": "python3"
  },
  "language_info": {
   "name": "python",
   "version": "3.11.0 (main, Oct 24 2022, 18:26:48) [MSC v.1933 64 bit (AMD64)]"
  },
  "orig_nbformat": 4,
  "vscode": {
   "interpreter": {
    "hash": "9a4ea2e96b2984c82f821aefd515200e36fd6523366f4f3dd3439acae7cd090e"
   }
  }
 },
 "nbformat": 4,
 "nbformat_minor": 2
}

{
 "cells": [
  {
   "cell_type": "markdown",
   "metadata": {},
   "source": [
    "# First Slash Command\n",
    "\n",
    "Having a bot that only connect isn't all that useful- we want it to be able to do stuff. In order to do that we need to create commands that we can run on our bot's server.\n",
    "\n",
    "Including the server (guild) ID is optional, but I recommend it for this process so you can quickly access commands on Discord.\n",
    "\n",
    "The new top of the file will include the import for the server ID"
   ]
  },
  {
   "cell_type": "code",
   "execution_count": null,
   "metadata": {},
   "outputs": [],
   "source": [
    "load_dotenv()\n",
    "TOKEN = os.getenv('DISCORD_TOKEN')\n",
    "GUILD = int(os.getenv('GUILD_ID'))"
   ]
  },
  {
   "cell_type": "markdown",
   "metadata": {},
   "source": [
    "Under our connection event we'll add another one for our first command. It includes something called a 'decorator' which gives the interactions library the info it needs to setup the command, and a function that handles the action we take when that command is run."
   ]
  },
  {
   "cell_type": "markdown",
   "metadata": {},
   "source": [
    "@client.command(\n",
    "    name=\"getstats\",\n",
    "    description=\"Get your player stats\",\n",
    "    scope=GUILD,\n",
    ")\n",
    "async def get_stats(ctx: interactions.CommandContext):\n",
    "    await ctx.send(\"Here are your player stats!\")"
   ]
  },
  {
   "cell_type": "markdown",
   "metadata": {},
   "source": [
    "You should now be able to run `py bot.py` again and run the `/getstats` command on the Discord server to see the bot message appear on your server!"
   ]
  }
 ],
 "metadata": {
  "kernelspec": {
   "display_name": "Python 3.11.0 64-bit",
   "language": "python",
   "name": "python3"
  },
  "language_info": {
   "name": "python",
   "version": "3.11.0"
  },
  "orig_nbformat": 4,
  "vscode": {
   "interpreter": {
    "hash": "0665a69b81b0d252a1b445db04122473f3e1009be0adaea4f83aef2f0a7104e6"
   }
  }
 },
 "nbformat": 4,
 "nbformat_minor": 2
}

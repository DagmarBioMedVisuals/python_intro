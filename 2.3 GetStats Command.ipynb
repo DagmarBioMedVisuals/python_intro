{
    "cells": [
        {
            "cell_type": "markdown",
            "metadata": {},
            "source": [
                "# Setting Up the Game\n",
                "\n",
                "In order to run the actual game there is some background to setup. In particular we want a Game class to hold all the overall logic and we'll also start with a Player class to hold the data for a particular user. We'll go ahead and import the Player class into the Game class so we can use it later. In real life, you would probably store data in some form of database, but in this simple case we'll just store data in memory- this is much simpler but means the data will be wiped each time we restart the program. `self.players = {}` creates a dictionary we'll use as our 'database'."
            ]
        },
        {
            "cell_type": "code",
            "execution_count": null,
            "metadata": {},
            "outputs": [],
            "source": [
                "# game.py\n",
                "from player import Player\n",
                "\n",
                "\n",
                "class Game:\n",
                "    def __init__(self):\n",
                "        self.players = {}"
            ]
        },
        {
            "cell_type": "code",
            "execution_count": null,
            "metadata": {},
            "outputs": [],
            "source": [
                "# player.py\n",
                "class Player:\n",
                "    def __init__(self, id, xp=0, attack=0, hp=0):\n",
                "        self.id = id\n",
                "        self.xp = xp\n",
                "        self.attack = attack\n",
                "        self.max_hp = hp\n",
                "        self.current_hp = hp"
            ]
        },
        {
            "cell_type": "markdown",
            "metadata": {},
            "source": [
                "First thing we want to do with our game object is to retrieve data for a specific player. That will allow us to complete the `/getStats` command. This is also going to be a convenient spot to check if a user already has player data and create it if not. To do this we'll add a `getPlayer()` method to the Game class that returns the relevant player data."
            ]
        },
        {
            "cell_type": "code",
            "execution_count": null,
            "metadata": {},
            "outputs": [],
            "source": [
                "def getPlayer(self, player_id):\n",
                "    player = self.players.get(player_id)\n",
                "    if player is not None:\n",
                "        self.players[player_id] = player\n",
                "        return player\n",
                "    else:\n",
                "        self.players[player_id] = Player(player_id, 0, 2, 10)\n",
                "        return self.players[player_id]"
            ]
        },
        {
            "cell_type": "markdown",
            "metadata": {},
            "source": [
                "The next piece is to add that method to our bot so it can display the info in Discord. `\"\"\"` lets us easily create multiline strings."
            ]
        },
        {
            "cell_type": "code",
            "execution_count": null,
            "metadata": {},
            "outputs": [],
            "source": [
                "@client.command(\n",
                "    name=\"getstats\",\n",
                "    description=\"Get your player stats\",\n",
                "    scope=GUILD,\n",
                ")\n",
                "async def get_stats(ctx: interactions.CommandContext):\n",
                "    player = game.getPlayer(ctx.member.id)\n",
                "    await ctx.send(f\"\"\"{ctx.member.user.username}, here are your player stats!\n",
                "\n",
                "    Attack: {player.attack}\n",
                "    HP: {player.current_hp}\n",
                "    XP: {player.xp}\n",
                "    \"\"\")"
            ]
        },
        {
            "cell_type": "markdown",
            "metadata": {},
            "source": [
                "You should now be able to run the code and `/getstats` on your server to get your player stats.\n",
                "\n",
                "![command run on Discord](./images/GetStats.png)"
            ]
        }
    ],
    "metadata": {
        "kernelspec": {
            "display_name": "Python 3",
            "language": "python",
            "name": "python3"
        },
        "language_info": {
            "name": "python",
            "version": "3.11.0 (main, Oct 24 2022, 18:26:48) [MSC v.1933 64 bit (AMD64)]"
        },
        "orig_nbformat": 4,
        "vscode": {
            "interpreter": {
                "hash": "9a4ea2e96b2984c82f821aefd515200e36fd6523366f4f3dd3439acae7cd090e"
            }
        }
    },
    "nbformat": 4,
    "nbformat_minor": 2
}
